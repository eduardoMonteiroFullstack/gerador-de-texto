#imports
from openai import OpenAI

#criação de client
client = OpenAI()

#criação da requisição
resposta = client.chat.completions.create(
      model = "gpt-3.5-turbo",
      messages = [
              {"role": "system", "content": "você é um assistente util."},
              {"role": "user", "content": "define oque são LLMS no mundo da programação em um texto pequeno."}
              ]
)

print(resposta.choices[0].message.content)
